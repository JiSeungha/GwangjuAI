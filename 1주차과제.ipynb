{
  "nbformat": 4,
  "nbformat_minor": 0,
  "metadata": {
    "colab": {
      "name": "Untitled0.ipynb",
      "provenance": [],
      "collapsed_sections": [],
      "authorship_tag": "ABX9TyOSZxmt3eSzl2Pih34ARSLe",
      "include_colab_link": true
    },
    "kernelspec": {
      "name": "python3",
      "display_name": "Python 3"
    }
  },
  "cells": [
    {
      "cell_type": "markdown",
      "metadata": {
        "id": "view-in-github",
        "colab_type": "text"
      },
      "source": [
        "<a href=\"https://colab.research.google.com/github/JiSeungha/GwangjuAI/blob/master/1st_week_assignment.ipynb\" target=\"_parent\"><img src=\"https://colab.research.google.com/assets/colab-badge.svg\" alt=\"Open In Colab\"/></a>"
      ]
    },
    {
      "cell_type": "markdown",
      "metadata": {
        "id": "ww-yySfryW_V",
        "colab_type": "text"
      },
      "source": [
        "#1주차 과제\n",
        "*언어, 음성, 이미지, 자율주행분야의 인공지능 기술들*\n",
        "\n",
        "\n",
        "#### 1. 언어 : [네이버 파파고](https://papago.naver.com/)\n",
        "> 인공신경망 기계 번역으로           \n",
        "> 기존 SMT방식 번역보다 더욱 자연스럽게\n",
        "\n",
        "　입력된 문장을 쪼개어 번역하는 것이 아니라, 문구를 통째로 번역하기 때문에 기존 번역보다 훨씬 자연스럽다.\n",
        "\n",
        "　이는 __인공신경망__을 이용한 번역이기 때문인데, 인공신경망은 커다란 가상 공간을 의미한다. 번역을 해야하는 문장은 인공신경망의 한 지점을 의미하는 좌표 값으로 저장되고, 유사한 뜻을 가진 문장은 서로 가깝게 모여있게 된다. 인공신경망 기계번역은 입력된 문장 주변에 있는 정보들을 참고하여 보다 자연스러운 번역 결과를 만들게 된다.\n",
        "\n",
        "#### 2. 음성 : [네이버 Clova Voice](https://clova.ai/voice)\n",
        "> 방대한 데이터로 한국어만큼은 1등\n",
        "\n",
        "　국내 1위 검색포털 네이버의 여러 서비스에서 얻어지는 풍부한 양의 데이터를 머신러닝을 통해 만들어 낸 음성 서비스이다.\n",
        "\n",
        "　다른 음성인식 비서들에 비해 한국어 인식율이 높다는 평가가 지배적이다.\n",
        "\n",
        "#### 3. 이미지 : [다음 꽃 검색](https://www.daum.net/)\n",
        "> 딥러닝 발전의 최대 수혜자, 이미지 인식 및 분류\n",
        "\n",
        "　2012년 ILSVRC 사진분류 대회에서 딥러닝 기술이 본격적으로 주목받기 시작하며 여러 영상 인식 및 검색 분야에서 큰 성능 향상이 이루어졌다.\n",
        "\n",
        "　카카오는 2015년 초 부터 국내에 주로 서식하는 500여 가지의 꽃 품종에 대한 사진을 수집하여 데이터 셋을 만들고, 딥러닝 기반을 기반으로 기존 전통적인 컴퓨터 비전 기술을 이용한 꽃 검색보다 30% 이상 개선할 수 있었다.\n",
        "\n",
        "#### 4. 자율주행 : [웨이모](https://waymo.com/)\n",
        "> 자율주행 자동차의 종착점, 로보택시\n",
        "\n",
        "　차량이 자율주행하는게 대중적이 된다면, 굳이 자가용을 마련하지 않아도 자율주행 택시를 이용하게 되지 않을까? 라는 생각이 들었다. 실제로 로보택시라 불리는 자율주행 택시가 이미 시범운행을 하고 있었다.\n",
        "\n",
        "　로보택시는 2018년 11월 구글의 자회사인 웨이모가 미국 애리조나주 피닉스에서 세계 최초로 시작했다. 최근까지 웨이모는 자율주행 택시 운전석에 인간 세이프티 드라이버를 동승시켰으나, 지난 11월부터 완전 무인 자율주행 테스트에 돌입했다."
      ]
    },
    {
      "cell_type": "code",
      "metadata": {
        "id": "4b3_xE_69Qs8",
        "colab_type": "code",
        "colab": {}
      },
      "source": [
        ""
      ],
      "execution_count": 0,
      "outputs": []
    }
  ]
}
